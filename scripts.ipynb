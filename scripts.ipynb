{
 "cells": [
  {
   "cell_type": "code",
   "execution_count": 1,
   "metadata": {},
   "outputs": [],
   "source": [
    "a = 5"
   ]
  },
  {
   "cell_type": "code",
   "execution_count": 20,
   "metadata": {},
   "outputs": [
    {
     "name": "stdout",
     "output_type": "stream",
     "text": [
      "acbcd692-a1b0-4064-adac-29c684b45c83\n",
      "1656574628.2489007\n"
     ]
    }
   ],
   "source": [
    "import requests\n",
    "import json\n",
    "user = \"TESTSENDER1\"\n",
    "user = \"acbcd692-a1b0-4064-adac-29c684b45c83\"\n",
    "base_url= f'http://localhost:5005/conversations/{user}/tracker'\n",
    "response = requests.get(base_url)\n",
    "# print(response.text)\n",
    "result=response.json()\n",
    "# result\n",
    "print(result['sender_id'])\n",
    "print(result['latest_event_time'])\n",
    "print(result)"
   ]
  },
  {
   "cell_type": "code",
   "execution_count": 7,
   "metadata": {},
   "outputs": [
    {
     "name": "stdout",
     "output_type": "stream",
     "text": [
      "TESTSENDER1\n"
     ]
    }
   ],
   "source": [
    "# sender_idd=result.get('sender_id') \n",
    "# print(sender_idd)\n"
   ]
  },
  {
   "cell_type": "code",
   "execution_count": 17,
   "metadata": {},
   "outputs": [
    {
     "name": "stdout",
     "output_type": "stream",
     "text": [
      "---------\n",
      "slots : \n",
      "[]\n"
     ]
    }
   ],
   "source": [
    "##Slots\n",
    "# import requests\n",
    "# import json\n",
    "# user = \"TESTSENDER1\"\n",
    "# base_url= f'http://localhost:5005/conversations/{user}/tracker'\n",
    "# response = requests.get(base_url)\n",
    "# # print(response.text)\n",
    "# result=response.json()\n",
    "\n",
    "slots=result.get('slots').keys()\n",
    "# print(slots)\n",
    "print(\"---------\")\n",
    "print(\"slots : \")\n",
    "slot_list=list(slots)\n",
    "print(slot_list[:-1])"
   ]
  },
  {
   "cell_type": "code",
   "execution_count": 14,
   "metadata": {},
   "outputs": [
    {
     "name": "stdout",
     "output_type": "stream",
     "text": [
      "version: \"2.0\"\n",
      "stories:\n",
      "- story: TESTSENDER1\n",
      "  steps:\n",
      "  - intent: greet\n",
      "    user: |-\n",
      "      hi\n",
      "  - action: utter_greet\n",
      "  - intent: about_python\n",
      "    user: |-\n",
      "      python\n",
      "  - action: utter_about_python\n",
      "\n",
      "<Response [200]>\n"
     ]
    }
   ],
   "source": [
    "# story explored from user\n",
    "import requests\n",
    "import json\n",
    "user = \"TESTSENDER1\"\n",
    "base_url= f'http://localhost:5005/conversations/{user}/story'\n",
    "response = requests.get(base_url)\n",
    "print(response.text)\n",
    "# result=response.json()\n",
    "\n",
    "# slots=result.get('slots').keys()\n",
    "print(response)"
   ]
  },
  {
   "cell_type": "code",
   "execution_count": 18,
   "metadata": {},
   "outputs": [
    {
     "name": "stdout",
     "output_type": "stream",
     "text": [
      "[{'event': 'action', 'timestamp': 1656485769.8110623, 'name': 'action_session_start', 'policy': None, 'confidence': 1.0, 'action_text': None, 'hide_rule_turn': False}, {'event': 'session_started', 'timestamp': 1656485769.8110623}, {'event': 'action', 'timestamp': 1656485769.8110623, 'name': 'action_listen', 'policy': None, 'confidence': None, 'action_text': None, 'hide_rule_turn': False}]\n",
      "#########\n"
     ]
    },
    {
     "ename": "TypeError",
     "evalue": "unhashable type: 'dict'",
     "output_type": "error",
     "traceback": [
      "\u001b[1;31m---------------------------------------------------------------------------\u001b[0m",
      "\u001b[1;31mTypeError\u001b[0m                                 Traceback (most recent call last)",
      "\u001b[1;32mc:\\Users\\atul.aggarwal\\Project\\edu_chatbot\\scripts.ipynb Cell 6'\u001b[0m in \u001b[0;36m<cell line: 16>\u001b[1;34m()\u001b[0m\n\u001b[0;32m     <a href='vscode-notebook-cell:/c%3A/Users/atul.aggarwal/Project/edu_chatbot/scripts.ipynb#ch0000006?line=12'>13</a>\u001b[0m \u001b[39mprint\u001b[39m(\u001b[39m'\u001b[39m\u001b[39m#########\u001b[39m\u001b[39m'\u001b[39m)\n\u001b[0;32m     <a href='vscode-notebook-cell:/c%3A/Users/atul.aggarwal/Project/edu_chatbot/scripts.ipynb#ch0000006?line=14'>15</a>\u001b[0m iterator\u001b[39m=\u001b[39m\u001b[39miter\u001b[39m(sender_idd)\n\u001b[1;32m---> <a href='vscode-notebook-cell:/c%3A/Users/atul.aggarwal/Project/edu_chatbot/scripts.ipynb#ch0000006?line=15'>16</a>\u001b[0m res_dict1\u001b[39m=\u001b[39m\u001b[39mdict\u001b[39;49m(\u001b[39mzip\u001b[39;49m(iterator,iterator))\n\u001b[0;32m     <a href='vscode-notebook-cell:/c%3A/Users/atul.aggarwal/Project/edu_chatbot/scripts.ipynb#ch0000006?line=16'>17</a>\u001b[0m \u001b[39mprint\u001b[39m(res_dict1)\n\u001b[0;32m     <a href='vscode-notebook-cell:/c%3A/Users/atul.aggarwal/Project/edu_chatbot/scripts.ipynb#ch0000006?line=19'>20</a>\u001b[0m \u001b[39m# res = [ sub['event'] for sub in sender_idd ]\u001b[39;00m\n\u001b[0;32m     <a href='vscode-notebook-cell:/c%3A/Users/atul.aggarwal/Project/edu_chatbot/scripts.ipynb#ch0000006?line=20'>21</a>\u001b[0m \u001b[39m# # print(res)\u001b[39;00m\n",
      "\u001b[1;31mTypeError\u001b[0m: unhashable type: 'dict'"
     ]
    }
   ],
   "source": [
    "import requests\n",
    "import json\n",
    "user = \"NITIN\"\n",
    "base_url= f'http://localhost:5005/conversations/{user}/tracker'\n",
    "response = requests.get(base_url)\n",
    "result=response.text\n",
    "json_result=json.loads(result)\n",
    "\n",
    "sender_idd=json_result.get('events') \n",
    "print(sender_idd)\n",
    "\n",
    "\n",
    "print('#########')\n",
    "\n",
    "iterator=iter(sender_idd)\n",
    "res_dict1=dict(zip(iterator,iterator))\n",
    "print(res_dict1)\n",
    "\n",
    "\n",
    "# res = [ sub['event'] for sub in sender_idd ]\n",
    "# # print(res)\n",
    "\n",
    "print(\"######\")\n",
    "\n",
    "\n",
    "iterator=iter(res)\n",
    "res_dict=dict(zip(iterator,iterator))\n",
    "print(type(res_dict))\n",
    "\n",
    "\n",
    "# for i in range(len(res)):\n",
    "#     if res[i] =='bot':\n",
    "#         print(res[i])\n",
    "        \n",
    "# print(\"#########33\")\n",
    "        \n",
    "# for j in range(len(res)):\n",
    "#     if res[j] =='user':\n",
    "#         print(res[j])\n",
    "\n",
    "        \n",
    "# for i in sender_idd:\n",
    "#     print(i)\n",
    "#     print(\"\\n\")\n",
    "#     for event in i:\n",
    "#         print(event)\n"
   ]
  },
  {
   "cell_type": "code",
   "execution_count": 19,
   "metadata": {},
   "outputs": [],
   "source": [
    "base_url= f'http://localhost:5005/conversations'\n",
    "response = requests.get(base_url)"
   ]
  },
  {
   "cell_type": "code",
   "execution_count": 20,
   "metadata": {},
   "outputs": [
    {
     "data": {
      "text/plain": [
       "<Response [404]>"
      ]
     },
     "execution_count": 20,
     "metadata": {},
     "output_type": "execute_result"
    }
   ],
   "source": [
    "response"
   ]
  },
  {
   "cell_type": "code",
   "execution_count": 21,
   "metadata": {},
   "outputs": [
    {
     "data": {
      "text/plain": [
       "<Response [200]>"
      ]
     },
     "execution_count": 21,
     "metadata": {},
     "output_type": "execute_result"
    }
   ],
   "source": [
    "user = \"TESTSENDER1\"\n",
    "base_url= f'http://localhost:5005/conversations/{user}/tracker'\n",
    "response = requests.get(base_url)\n",
    "response"
   ]
  },
  {
   "cell_type": "code",
   "execution_count": 22,
   "metadata": {},
   "outputs": [
    {
     "data": {
      "text/plain": [
       "'{\"sender_id\":\"TESTSENDER1\",\"slots\":{\"session_started_metadata\":null},\"latest_message\":{\"intent\":{\"id\":516017838775547500,\"name\":\"about_python\",\"confidence\":0.7351606488227844},\"entities\":[],\"text\":\"python\",\"message_id\":\"9780a842536044ff9b7c48b3215a56f9\",\"metadata\":{},\"intent_ranking\":[{\"id\":516017838775547500,\"name\":\"about_python\",\"confidence\":0.7351606488227844},{\"id\":-6049690119621037316,\"name\":\"define_variable_in_python\",\"confidence\":0.09041327983140945},{\"id\":6386083319617430882,\"name\":\"python_uses\",\"confidence\":0.05077268183231354},{\"id\":2005038384774121488,\"name\":\"why_python\",\"confidence\":0.04335552826523781},{\"id\":-2358480621124850600,\"name\":\"deny\",\"confidence\":0.03821112588047981},{\"id\":-9217060610162950380,\"name\":\"bot_challenge\",\"confidence\":0.02157112956047058},{\"id\":7175761228086443403,\"name\":\"greet\",\"confidence\":0.01038281712681055},{\"id\":7819160784928984122,\"name\":\"goodbye\",\"confidence\":0.008536211214959621},{\"id\":-910533614439668866,\"name\":\"mood_great\",\"confidence\":0.0007989805890247226},{\"id\":4644041045430509427,\"name\":\"affirm\",\"confidence\":0.0007974710897542536}],\"response_selector\":{\"all_retrieval_intents\":[],\"default\":{\"response\":{\"id\":null,\"responses\":null,\"response_templates\":null,\"confidence\":0.0,\"intent_response_key\":null,\"utter_action\":\"utter_None\",\"template_name\":\"utter_None\"},\"ranking\":[]}}},\"latest_event_time\":1656483681.304986,\"followup_action\":null,\"paused\":false,\"events\":[{\"event\":\"action\",\"timestamp\":1656483276.0856903,\"name\":\"action_session_start\",\"policy\":null,\"confidence\":1.0,\"action_text\":null,\"hide_rule_turn\":false},{\"event\":\"session_started\",\"timestamp\":1656483276.0856903},{\"event\":\"action\",\"timestamp\":1656483276.0856903,\"name\":\"action_listen\",\"policy\":null,\"confidence\":null,\"action_text\":null,\"hide_rule_turn\":false},{\"event\":\"user\",\"timestamp\":1656483276.0927324,\"text\":\"hi\",\"parse_data\":{\"intent\":{\"id\":7175761228086443403,\"name\":\"greet\",\"confidence\":0.999973714351654},\"entities\":[],\"text\":\"hi\",\"message_id\":\"f2fb73821ec74c5fa3422d91af963e07\",\"metadata\":{},\"intent_ranking\":[{\"id\":7175761228086443403,\"name\":\"greet\",\"confidence\":0.999973714351654},{\"id\":-1342723644899382506,\"name\":\"data_types\",\"confidence\":1.3449064681481104e-5},{\"id\":2005038384774121488,\"name\":\"why_python\",\"confidence\":5.486318059411133e-6},{\"id\":6386083319617430882,\"name\":\"python_uses\",\"confidence\":3.2846144222276052e-6},{\"id\":-9217060610162950380,\"name\":\"bot_challenge\",\"confidence\":9.852359426076873e-7},{\"id\":7819160784928984122,\"name\":\"goodbye\",\"confidence\":9.462639241064608e-7},{\"id\":-2358480621124850600,\"name\":\"deny\",\"confidence\":8.377383551305684e-7},{\"id\":4644041045430509427,\"name\":\"affirm\",\"confidence\":5.425134190772951e-7},{\"id\":516017838775547500,\"name\":\"about_python\",\"confidence\":4.69687620352488e-7},{\"id\":-6049690119621037316,\"name\":\"define_variable_in_python\",\"confidence\":3.09535749920542e-7}],\"response_selector\":{\"all_retrieval_intents\":[],\"default\":{\"response\":{\"id\":null,\"responses\":null,\"response_templates\":null,\"confidence\":0.0,\"intent_response_key\":null,\"utter_action\":\"utter_None\",\"template_name\":\"utter_None\"},\"ranking\":[]}}},\"input_channel\":\"rest\",\"message_id\":\"f2fb73821ec74c5fa3422d91af963e07\",\"metadata\":{}},{\"event\":\"user_featurization\",\"timestamp\":1656483276.0981977,\"use_text_for_featurization\":false},{\"event\":\"action\",\"timestamp\":1656483276.0981977,\"name\":\"utter_greet\",\"policy\":\"policy_0_MemoizationPolicy\",\"confidence\":1.0,\"action_text\":null,\"hide_rule_turn\":false},{\"event\":\"bot\",\"timestamp\":1656483276.0981977,\"metadata\":{\"utter_action\":\"utter_greet\"},\"text\":\"Hey! How are you?\",\"data\":{\"elements\":null,\"quick_replies\":null,\"buttons\":null,\"attachment\":null,\"image\":null,\"custom\":null}},{\"event\":\"action\",\"timestamp\":1656483276.1041965,\"name\":\"action_listen\",\"policy\":\"policy_0_MemoizationPolicy\",\"confidence\":1.0,\"action_text\":null,\"hide_rule_turn\":false},{\"event\":\"user\",\"timestamp\":1656483681.285195,\"text\":\"python\",\"parse_data\":{\"intent\":{\"id\":516017838775547500,\"name\":\"about_python\",\"confidence\":0.7351606488227844},\"entities\":[],\"text\":\"python\",\"message_id\":\"9780a842536044ff9b7c48b3215a56f9\",\"metadata\":{},\"intent_ranking\":[{\"id\":516017838775547500,\"name\":\"about_python\",\"confidence\":0.7351606488227844},{\"id\":-6049690119621037316,\"name\":\"define_variable_in_python\",\"confidence\":0.09041327983140945},{\"id\":6386083319617430882,\"name\":\"python_uses\",\"confidence\":0.05077268183231354},{\"id\":2005038384774121488,\"name\":\"why_python\",\"confidence\":0.04335552826523781},{\"id\":-2358480621124850600,\"name\":\"deny\",\"confidence\":0.03821112588047981},{\"id\":-9217060610162950380,\"name\":\"bot_challenge\",\"confidence\":0.02157112956047058},{\"id\":7175761228086443403,\"name\":\"greet\",\"confidence\":0.01038281712681055},{\"id\":7819160784928984122,\"name\":\"goodbye\",\"confidence\":0.008536211214959621},{\"id\":-910533614439668866,\"name\":\"mood_great\",\"confidence\":0.0007989805890247226},{\"id\":4644041045430509427,\"name\":\"affirm\",\"confidence\":0.0007974710897542536}],\"response_selector\":{\"all_retrieval_intents\":[],\"default\":{\"response\":{\"id\":null,\"responses\":null,\"response_templates\":null,\"confidence\":0.0,\"intent_response_key\":null,\"utter_action\":\"utter_None\",\"template_name\":\"utter_None\"},\"ranking\":[]}}},\"input_channel\":\"rest\",\"message_id\":\"9780a842536044ff9b7c48b3215a56f9\",\"metadata\":{}},{\"event\":\"user_featurization\",\"timestamp\":1656483681.294902,\"use_text_for_featurization\":false},{\"event\":\"action\",\"timestamp\":1656483681.294902,\"name\":\"action_unlikely_intent\",\"policy\":\"policy_2_UnexpecTEDIntentPolicy\",\"confidence\":1.0,\"action_text\":null,\"hide_rule_turn\":false},{\"event\":\"action\",\"timestamp\":1656483681.300664,\"name\":\"utter_about_python\",\"policy\":\"policy_3_TEDPolicy\",\"confidence\":0.9961386322975159,\"action_text\":null,\"hide_rule_turn\":false},{\"event\":\"bot\",\"timestamp\":1656483681.3007307,\"metadata\":{\"utter_action\":\"utter_about_python\"},\"text\":\"- Python is a programming language.\\\\n- Python is an interpreted, object-oriented, high-level programming language with dynamic semantics.\\\\n\",\"data\":{\"elements\":null,\"quick_replies\":null,\"buttons\":null,\"attachment\":null,\"image\":null,\"custom\":null}},{\"event\":\"action\",\"timestamp\":1656483681.304986,\"name\":\"action_listen\",\"policy\":\"policy_3_TEDPolicy\",\"confidence\":0.9997006058692932,\"action_text\":null,\"hide_rule_turn\":false}],\"latest_input_channel\":\"rest\",\"active_loop\":{},\"latest_action\":{\"action_name\":\"action_listen\"},\"latest_action_name\":\"action_listen\"}'"
      ]
     },
     "execution_count": 22,
     "metadata": {},
     "output_type": "execute_result"
    }
   ],
   "source": [
    "response.text"
   ]
  },
  {
   "cell_type": "code",
   "execution_count": 9,
   "metadata": {},
   "outputs": [
    {
     "name": "stdout",
     "output_type": "stream",
     "text": [
      "PostgreSQL connection is closed\n"
     ]
    }
   ],
   "source": [
    "import psycopg2\n",
    "from psycopg2 import Error\n",
    "\n",
    "try:\n",
    "    # Connect to an existing database\n",
    "    connection = psycopg2.connect(user=\"postgres\",\n",
    "                                  password=\"123456\",\n",
    "                                  host=\"127.0.0.1\",\n",
    "                                  port=\"5432\",\n",
    "                                  database=\"rasa_db\")\n",
    "\n",
    "    # Create a cursor to perform database operations\n",
    "    cursor = connection.cursor()\n",
    "    # # Print PostgreSQL details\n",
    "    # print(\"PostgreSQL server information\")\n",
    "    # print(connection.get_dsn_parameters(), \"\\n\")\n",
    "\n",
    "    insert_query = \"\"\" insert into user_table values('124','qwertyuiopkjhg','sendercnv')\"\"\"\n",
    "    cursor.execute(insert_query)\n",
    "    connection.commit()\n",
    "    # # Executing a SQL query\n",
    "    # cursor.execute(\"SELECT version();\")\n",
    "    # # Fetch result\n",
    "    # record = cursor.fetchone()\n",
    "    # print(\"You are connected to - \", record, \"\\n\")\n",
    "\n",
    "except (Exception, Error) as error:\n",
    "    print(\"Error while connecting to PostgreSQL\", error)\n",
    "finally:\n",
    "    if (connection):\n",
    "        cursor.close()\n",
    "        connection.close()\n",
    "        print(\"PostgreSQL connection is closed\")"
   ]
  },
  {
   "cell_type": "code",
   "execution_count": null,
   "metadata": {},
   "outputs": [],
   "source": []
  }
 ],
 "metadata": {
  "kernelspec": {
   "display_name": "Python 3.8.0 ('rasa')",
   "language": "python",
   "name": "python3"
  },
  "language_info": {
   "codemirror_mode": {
    "name": "ipython",
    "version": 3
   },
   "file_extension": ".py",
   "mimetype": "text/x-python",
   "name": "python",
   "nbconvert_exporter": "python",
   "pygments_lexer": "ipython3",
   "version": "3.8.0"
  },
  "orig_nbformat": 4,
  "vscode": {
   "interpreter": {
    "hash": "97bdbc8db70789fc85dadd2f7f1634454b57e7bd1e484a44d6d144705cd1a924"
   }
  }
 },
 "nbformat": 4,
 "nbformat_minor": 2
}
